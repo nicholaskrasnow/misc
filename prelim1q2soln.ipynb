{
 "cells": [
  {
   "cell_type": "code",
   "execution_count": 1,
   "id": "received-label",
   "metadata": {
    "tags": []
   },
   "outputs": [],
   "source": [
    "import pandas as pd"
   ]
  },
  {
   "cell_type": "code",
   "execution_count": 2,
   "id": "former-calendar",
   "metadata": {},
   "outputs": [],
   "source": [
    "import numpy as np"
   ]
  },
  {
   "cell_type": "code",
   "execution_count": 3,
   "id": "textile-carrier",
   "metadata": {},
   "outputs": [],
   "source": [
    "data = 'Data-3-5-AMP.xls'"
   ]
  },
  {
   "cell_type": "code",
   "execution_count": 4,
   "id": "supreme-participant",
   "metadata": {},
   "outputs": [],
   "source": [
    "readdata = pd.read_excel(data)"
   ]
  },
  {
   "cell_type": "code",
   "execution_count": 5,
   "id": "elect-honor",
   "metadata": {},
   "outputs": [],
   "source": [
    "import matplotlib.pyplot as plt"
   ]
  },
  {
   "cell_type": "code",
   "execution_count": 6,
   "id": "unusual-puppy",
   "metadata": {},
   "outputs": [
    {
     "data": {
      "image/png": "[encoded data removed]",
      "text/plain": [
       "<Figure size 432x288 with 1 Axes>"
      ]
     },
     "metadata": {
      "needs_background": "light"
     },
     "output_type": "display_data"
    }
   ],
   "source": [
    "xlist = readdata[\"amp\"]\n",
    "ylist = readdata[\"rate\"]\n",
    "zlist = readdata[\"error\"]\n",
    "dataplot = plt.errorbar(xlist,ylist,zlist,fmt='o')\n",
    "plt.xlabel('[AMP] (mM)')\n",
    "plt.ylabel('Rate (mM/s)')\n",
    "plt.title('Experimental Kinetics')\n",
    "plt.savefig('expcurve.png',dpi=300)\n",
    "plt.show()"
   ]
  },
  {
   "cell_type": "markdown",
   "id": "synthetic-discussion",
   "metadata": {},
   "source": [
    "Fit the derived function to the data"
   ]
  },
  {
   "cell_type": "code",
   "execution_count": 7,
   "id": "enhanced-energy",
   "metadata": {},
   "outputs": [],
   "source": [
    "f6p = 0.1;\n",
    "atp = 2.3;\n",
    "pfk = 0.00012;\n",
    "Kf6p = 0.11;\n",
    "Katp = 0.42;\n",
    "kCat = 0.4;"
   ]
  },
  {
   "cell_type": "code",
   "execution_count": 8,
   "id": "experimental-brook",
   "metadata": {},
   "outputs": [],
   "source": [
    "from scipy.optimize import curve_fit"
   ]
  },
  {
   "cell_type": "code",
   "execution_count": 32,
   "id": "smoking-newspaper",
   "metadata": {},
   "outputs": [],
   "source": [
    "def derived(x, w1, w2, Kamp, n):\n",
    "    return kCat*pfk*(f6p/(Kf6p+f6p))*(atp/(Katp+atp))*(w1+w2*(((x/Kamp)**n)/(1+(x/Kamp)**n))/(1+w1+w2*(((x/Kamp)**n)/(1+(x/Kamp)**n))))"
   ]
  },
  {
   "cell_type": "code",
   "execution_count": 33,
   "id": "protective-biodiversity",
   "metadata": {},
   "outputs": [],
   "source": [
    "pars, cov = curve_fit(derived, xlist, ylist)"
   ]
  },
  {
   "cell_type": "code",
   "execution_count": 34,
   "id": "national-desert",
   "metadata": {},
   "outputs": [
    {
     "name": "stdout",
     "output_type": "stream",
     "text": [
      "[ 0.01837426 11.44798947  0.26253513  2.79441456]\n"
     ]
    }
   ],
   "source": [
    "print(pars)"
   ]
  },
  {
   "cell_type": "code",
   "execution_count": 44,
   "id": "short-signal",
   "metadata": {},
   "outputs": [
    {
     "data": {
      "image/png": "[encoded data removed]",
      "text/plain": [
       "<Figure size 432x288 with 1 Axes>"
      ]
     },
     "metadata": {
      "needs_background": "light"
     },
     "output_type": "display_data"
    }
   ],
   "source": [
    "xDomain = np.linspace(0,1)\n",
    "yvals  = derived(xDomain,pars[0],pars[1],pars[2],pars[3])\n",
    "plt.plot(xDomain,yvals)\n",
    "plt.errorbar(xlist,ylist,zlist,fmt='o')\n",
    "plt.xlabel('[AMP] (mM)')\n",
    "plt.ylabel('Rate (mM/s)')\n",
    "plt.title('Modelled Experimental PFK-1 Kinetics')\n",
    "plt.savefig('fitcurve.png',dpi=300)\n",
    "plt.show()"
   ]
  },
  {
   "cell_type": "code",
   "execution_count": null,
   "id": "fifth-enforcement",
   "metadata": {},
   "outputs": [],
   "source": []
  }
 ],
 "metadata": {
  "kernelspec": {
   "display_name": "Python 3",
   "language": "python",
   "name": "python3"
  },
  "language_info": {
   "codemirror_mode": {
    "name": "ipython",
    "version": 3
   },
   "file_extension": ".py",
   "mimetype": "text/x-python",
   "name": "python",
   "nbconvert_exporter": "python",
   "pygments_lexer": "ipython3",
   "version": "3.8.5"
  }
 },
 "nbformat": 4,
 "nbformat_minor": 5
}
